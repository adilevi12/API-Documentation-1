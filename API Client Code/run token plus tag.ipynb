{
 "cells": [
  {
   "cell_type": "markdown",
   "metadata": {},
   "source": [
    "<h1> Run token with tag</h1>\n",
   ]
  },
  {
   "cell_type": "markdown",
   "metadata": {},
   "source": [
    "<p> <b>Here we can apply the new method \"Upload URL token\"</b> <br> <br>\n",
    "    With a csv file we can upload a list of URLs to scan using the FakeRank API and get back a token for each scan. <br>\n",
    "    This method will run through each of the URLs in the list, scan it and return the aggregated results in a HTTP response.<br>\n",
    "    It is optional to return the result to an email specified in advance.</p>\n"
   ]
  },
  {
   "cell_type": "code",
   "execution_count": 15,
   "metadata": {},
   "outputs": [
    {
     "name": "stdout",
     "output_type": "stream",
     "text": [
      "{\"Expected Running time:\":\"Approx. 0.2 minutes\",\"Recieved URLs:\":6,\"run_token\":\"1fd3878d2d3c977ecf46e463df5cf34e\",\"status\":\"success\"}\n",
      "\n",
      "1fd3878d2d3c977ecf46e463df5cf34e\n"
     ]
    }
   ],
   "source": [
    "# making Get request\\\n",
    "#%%\n",
    "# importing the requests library\n",
    "import requests\n",
    "\n",
    "# api-endpoint\n",
    "ENDPOINT=\"https://adverifaiapi.azure-api.net/v5/upload_urls2\"\n",
    "\n",
    "headers = {\n",
    "# Request headers\n",
    "'Ocp-Apim-Subscription-Key': 'be103fb098f74097a9ddf84b9cf813fa',\n",
    "}\n",
    "import json\n",
    "params={\"tag\":1}\n",
    "with open('urls_file_tags.csv', 'rb') as f:\n",
    "    r = requests.post(ENDPOINT, files={'upload_file': f},headers=headers,params=params)\n",
    "    token=json.loads(r.text)[\"run_token\"]\n",
    "print(r.text)\n",
    "print(token)\n"
   ]
  },
  {
   "cell_type": "markdown",
   "metadata": {},
   "source": [
    "<p><br><br>Until the scan will successfully end you can check its status with the given token using run_token parameter.<br>\n",
    "    It is optional to add a tag to each URL in advance to keep track on the URLs that were sent.<br></p>"
   ]
  },
  {
   "cell_type": "code",
   "execution_count": 17,
   "metadata": {},
   "outputs": [
    {
     "name": "stdout",
     "output_type": "stream",
     "text": [
      "[['TAG', 'URL', 'NA', 'NLP Category', 'NLP Score', 'Problematic Category', 'Problematic Domain', 'FakeRank', 'Content Model', 'Failed Fact-Checks', 'Sample Sensitive Content', 'Bad References', 'Site Meta', 'Traffic', 'Site Fingerprint'], ['1\"', '\"https://www.tapatalk.com/groups/theseason/joe-biden-ongoing-thread-creepy-joe-biden-falling--t54085.html', '1', '', '', '', '', '', '', '', '', '', '', '', ''], ['2', 'https://edition.cnn.com/middleeast/live-news/lebanon-beirut-explosion-live-updates-dle-intl/index.html', '', '/Arts & Entertainment', '0.73', '', '', '0.27', '', '', '', '', '', '', ''], ['3', 'https://www.macaubusiness.com/lebanon-coronavirus-cases-peak-after-deadly-blast/', '', 'not found', '', '', '', '', '', '', '', '', '', '', ''], ['4', 'https://www.washingtonpost.com/world/middle_east/after-days-of-tension-israel-offers-aid-for-devastated-beirut/2020/08/06/585cddd2-d7b8-11ea-a788-2ce86ce81129_story.html', '', '/Sensitive Subjects', '0.85', 'Sensitive Subjects', '', '0.20', '', '', '', '', '', '', ''], ['5', 'https://www.nytimes.com/2020/07/27/world/middleeast/israel-hezbollah-lebanon-fighting.html', '', '/Sensitive Subjects', '0.94', 'Sensitive Subjects', '', '0.14', '', '', '', '', '', '', '']]\n",
      "200\n",
      "<bound method Response.json of <Response [200]>>\n"
     ]
    }
   ],
   "source": [
    "\n",
    "\n",
    "#%%\n",
    "import pandas as pd\n",
    "params={'run_token':token}\n",
    "r = requests.post(ENDPOINT, params=params,headers=headers)\n",
    "data=r.json()\n",
    "print(data)\n",
    "if data!=\"running\":\n",
    "    df=pd.DataFrame(data)\n",
    "    df.to_csv(\"run_out.csv\",header=False,index=False)\n",
    "else:\n",
    "    print(\"still running\")\n",
    "\n",
    "print(r.status_code )\n",
    "print(r.json)\n"
   ]
  }
 ],
 "metadata": {
  "kernelspec": {
   "display_name": "Python 3",
   "language": "python",
   "name": "python3"
  },
  "language_info": {
   "codemirror_mode": {
    "name": "ipython",
    "version": 3
   },
   "file_extension": ".py",
   "mimetype": "text/x-python",
   "name": "python",
   "nbconvert_exporter": "python",
   "pygments_lexer": "ipython3",
   "version": "3.7.4"
  }
 },
 "nbformat": 4,
 "nbformat_minor": 2
}
